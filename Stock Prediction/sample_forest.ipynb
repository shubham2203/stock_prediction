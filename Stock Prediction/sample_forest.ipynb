{
 "cells": [
  {
   "cell_type": "code",
   "execution_count": 77,
   "metadata": {
    "id": "kqeZBHRFOude"
   },
   "outputs": [],
   "source": [
    "import numpy as np\n",
    "import pandas as pd"
   ]
  },
  {
   "cell_type": "code",
   "execution_count": 78,
   "metadata": {
    "id": "pA_3_dlCO4x6"
   },
   "outputs": [],
   "source": [
    "df=pd.read_excel('/Users/Shubham Shah/Desktop/Jupyter Notebook/Stock Market WebApp/Stock Market/LSTM/icici.xlsx')"
   ]
  },
  {
   "cell_type": "code",
   "execution_count": 79,
   "metadata": {
    "colab": {
     "base_uri": "https://localhost:8080/",
     "height": 206
    },
    "id": "H_DRWtZVPIDf",
    "outputId": "2e3c3101-8e56-4d1c-e096-b0775bd6072f"
   },
   "outputs": [
    {
     "data": {
      "text/html": [
       "<div>\n",
       "<style scoped>\n",
       "    .dataframe tbody tr th:only-of-type {\n",
       "        vertical-align: middle;\n",
       "    }\n",
       "\n",
       "    .dataframe tbody tr th {\n",
       "        vertical-align: top;\n",
       "    }\n",
       "\n",
       "    .dataframe thead th {\n",
       "        text-align: right;\n",
       "    }\n",
       "</style>\n",
       "<table border=\"1\" class=\"dataframe\">\n",
       "  <thead>\n",
       "    <tr style=\"text-align: right;\">\n",
       "      <th></th>\n",
       "      <th>Time</th>\n",
       "      <th>NII</th>\n",
       "      <th>NIM</th>\n",
       "      <th>BookValue</th>\n",
       "      <th>CASA</th>\n",
       "      <th>ROE</th>\n",
       "      <th>Net NPA</th>\n",
       "      <th>PCR</th>\n",
       "      <th>Advances</th>\n",
       "      <th>OCR cost/income</th>\n",
       "      <th>CAR</th>\n",
       "      <th>PAT</th>\n",
       "      <th>COProfit</th>\n",
       "      <th>Price</th>\n",
       "    </tr>\n",
       "  </thead>\n",
       "  <tbody>\n",
       "    <tr>\n",
       "      <th>0</th>\n",
       "      <td>Q1-2009</td>\n",
       "      <td>20.90</td>\n",
       "      <td>2.4</td>\n",
       "      <td>425.8</td>\n",
       "      <td>28.0</td>\n",
       "      <td>6.1</td>\n",
       "      <td>1.74</td>\n",
       "      <td>50.0</td>\n",
       "      <td>2241.46</td>\n",
       "      <td>52.1</td>\n",
       "      <td>13.42</td>\n",
       "      <td>7.28</td>\n",
       "      <td>23.08</td>\n",
       "      <td>115.872726</td>\n",
       "    </tr>\n",
       "    <tr>\n",
       "      <th>1</th>\n",
       "      <td>Q2-2009</td>\n",
       "      <td>21.48</td>\n",
       "      <td>2.4</td>\n",
       "      <td>437.0</td>\n",
       "      <td>30.0</td>\n",
       "      <td>8.4</td>\n",
       "      <td>1.83</td>\n",
       "      <td>50.0</td>\n",
       "      <td>2219.85</td>\n",
       "      <td>42.5</td>\n",
       "      <td>14.01</td>\n",
       "      <td>10.14</td>\n",
       "      <td>24.37</td>\n",
       "      <td>72.500000</td>\n",
       "    </tr>\n",
       "    <tr>\n",
       "      <th>2</th>\n",
       "      <td>Q3-2009</td>\n",
       "      <td>19.90</td>\n",
       "      <td>2.4</td>\n",
       "      <td>449.5</td>\n",
       "      <td>27.4</td>\n",
       "      <td>10.2</td>\n",
       "      <td>1.95</td>\n",
       "      <td>50.0</td>\n",
       "      <td>2125.21</td>\n",
       "      <td>37.7</td>\n",
       "      <td>15.60</td>\n",
       "      <td>12.72</td>\n",
       "      <td>27.71</td>\n",
       "      <td>75.681816</td>\n",
       "    </tr>\n",
       "    <tr>\n",
       "      <th>3</th>\n",
       "      <td>Q4-2009</td>\n",
       "      <td>21.39</td>\n",
       "      <td>2.6</td>\n",
       "      <td>445.0</td>\n",
       "      <td>28.7</td>\n",
       "      <td>6.1</td>\n",
       "      <td>1.96</td>\n",
       "      <td>50.0</td>\n",
       "      <td>2183.11</td>\n",
       "      <td>42.7</td>\n",
       "      <td>15.50</td>\n",
       "      <td>7.44</td>\n",
       "      <td>21.56</td>\n",
       "      <td>87.454544</td>\n",
       "    </tr>\n",
       "    <tr>\n",
       "      <th>4</th>\n",
       "      <td>Q1-2010</td>\n",
       "      <td>19.85</td>\n",
       "      <td>2.4</td>\n",
       "      <td>451.0</td>\n",
       "      <td>30.4</td>\n",
       "      <td>7.0</td>\n",
       "      <td>2.19</td>\n",
       "      <td>51.1</td>\n",
       "      <td>1981.02</td>\n",
       "      <td>37.1</td>\n",
       "      <td>17.40</td>\n",
       "      <td>8.78</td>\n",
       "      <td>25.29</td>\n",
       "      <td>137.909088</td>\n",
       "    </tr>\n",
       "  </tbody>\n",
       "</table>\n",
       "</div>"
      ],
      "text/plain": [
       "      Time    NII  NIM  BookValue  CASA   ROE  Net NPA   PCR  Advances  \\\n",
       "0  Q1-2009  20.90  2.4      425.8  28.0   6.1     1.74  50.0   2241.46   \n",
       "1  Q2-2009  21.48  2.4      437.0  30.0   8.4     1.83  50.0   2219.85   \n",
       "2  Q3-2009  19.90  2.4      449.5  27.4  10.2     1.95  50.0   2125.21   \n",
       "3  Q4-2009  21.39  2.6      445.0  28.7   6.1     1.96  50.0   2183.11   \n",
       "4  Q1-2010  19.85  2.4      451.0  30.4   7.0     2.19  51.1   1981.02   \n",
       "\n",
       "   OCR cost/income    CAR    PAT  COProfit       Price  \n",
       "0             52.1  13.42   7.28     23.08  115.872726  \n",
       "1             42.5  14.01  10.14     24.37   72.500000  \n",
       "2             37.7  15.60  12.72     27.71   75.681816  \n",
       "3             42.7  15.50   7.44     21.56   87.454544  \n",
       "4             37.1  17.40   8.78     25.29  137.909088  "
      ]
     },
     "execution_count": 79,
     "metadata": {},
     "output_type": "execute_result"
    }
   ],
   "source": [
    "df.head()"
   ]
  },
  {
   "cell_type": "code",
   "execution_count": 80,
   "metadata": {
    "id": "ZvaLt2CFPJfh"
   },
   "outputs": [],
   "source": [
    "X = df.iloc[:,[2,3,4,5,6,7,8,9,10,11,12,13]].values\n",
    "Y = df.iloc[:,[1]].values"
   ]
  },
  {
   "cell_type": "code",
   "execution_count": 81,
   "metadata": {
    "colab": {
     "base_uri": "https://localhost:8080/"
    },
    "id": "DxL06GF6PzJr",
    "outputId": "7084c026-9f2a-4921-b96c-82cb01b95a46"
   },
   "outputs": [
    {
     "data": {
      "text/plain": [
       "(57, 12)"
      ]
     },
     "execution_count": 81,
     "metadata": {},
     "output_type": "execute_result"
    }
   ],
   "source": [
    "X.shape"
   ]
  },
  {
   "cell_type": "code",
   "execution_count": 82,
   "metadata": {
    "colab": {
     "base_uri": "https://localhost:8080/"
    },
    "id": "LgW1m6GrP0xM",
    "outputId": "0f15b381-ade5-4734-91d5-1867e1de5292"
   },
   "outputs": [
    {
     "data": {
      "text/plain": [
       "array([[ 20.9 ],\n",
       "       [ 21.48],\n",
       "       [ 19.9 ],\n",
       "       [ 21.39],\n",
       "       [ 19.85],\n",
       "       [ 20.36],\n",
       "       [ 20.58],\n",
       "       [ 20.35],\n",
       "       [ 19.91],\n",
       "       [ 22.04],\n",
       "       [ 23.12],\n",
       "       [ 25.1 ],\n",
       "       [ 24.11],\n",
       "       [ 25.06],\n",
       "       [ 27.12],\n",
       "       [ 31.05],\n",
       "       [ 31.93],\n",
       "       [ 33.71],\n",
       "       [ 34.99],\n",
       "       [ 38.03],\n",
       "       [ 38.2 ],\n",
       "       [ 40.44],\n",
       "       [ 42.55],\n",
       "       [ 43.57],\n",
       "       [ 44.92],\n",
       "       [ 46.57],\n",
       "       [ 48.12],\n",
       "       [ 50.79],\n",
       "       [ 51.15],\n",
       "       [ 52.51],\n",
       "       [ 54.53],\n",
       "       [ 54.05],\n",
       "       [ 51.59],\n",
       "       [ 52.53],\n",
       "       [ 53.63],\n",
       "       [ 53.62],\n",
       "       [ 55.9 ],\n",
       "       [ 57.09],\n",
       "       [ 57.05],\n",
       "       [ 60.22],\n",
       "       [ 61.02],\n",
       "       [ 64.18],\n",
       "       [ 68.75],\n",
       "       [ 76.2 ],\n",
       "       [ 77.37],\n",
       "       [ 80.57],\n",
       "       [ 85.45],\n",
       "       [ 89.27],\n",
       "       [ 92.8 ],\n",
       "       [ 93.66],\n",
       "       [ 99.12],\n",
       "       [104.31],\n",
       "       [109.36],\n",
       "       [116.9 ],\n",
       "       [122.36],\n",
       "       [126.05],\n",
       "       [132.1 ]])"
      ]
     },
     "execution_count": 82,
     "metadata": {},
     "output_type": "execute_result"
    }
   ],
   "source": [
    "Y"
   ]
  },
  {
   "cell_type": "code",
   "execution_count": 83,
   "metadata": {
    "colab": {
     "base_uri": "https://localhost:8080/"
    },
    "id": "bKa1_TD_XT5B",
    "outputId": "00b3b382-a619-4f29-d44c-74973b81e1e8"
   },
   "outputs": [
    {
     "data": {
      "text/plain": [
       "(57, 1)"
      ]
     },
     "execution_count": 83,
     "metadata": {},
     "output_type": "execute_result"
    }
   ],
   "source": [
    "Y.shape"
   ]
  },
  {
   "cell_type": "code",
   "execution_count": 84,
   "metadata": {
    "id": "9V4umh-dQAXk"
   },
   "outputs": [],
   "source": [
    "import matplotlib.pyplot as plt\n",
    "%matplotlib inline\n"
   ]
  },
  {
   "cell_type": "code",
   "execution_count": 85,
   "metadata": {
    "id": "9Iyc5coBQptv"
   },
   "outputs": [],
   "source": [
    "from sklearn.preprocessing import MinMaxScaler\n",
    "sc = MinMaxScaler(feature_range=(0, 1))\n",
    "X_new = sc.fit_transform(X)\n",
    "Y_new=sc.fit_transform(Y)"
   ]
  },
  {
   "cell_type": "code",
   "execution_count": 86,
   "metadata": {
    "colab": {
     "base_uri": "https://localhost:8080/"
    },
    "id": "zZBwA-iCRqaw",
    "outputId": "40552957-e532-4cbd-c28b-fd986a6a24e5"
   },
   "outputs": [
    {
     "data": {
      "text/plain": [
       "array([[0.        , 0.        , 0.03045685, 0.35672515, 0.26401869,\n",
       "        0.        , 0.06264623, 1.        , 0.        , 0.10371848,\n",
       "        0.01872613, 0.05813259],\n",
       "       [0.        , 0.01313475, 0.1319797 , 0.49122807, 0.28504673,\n",
       "        0.        , 0.05962957, 0.63218391, 0.08702065, 0.14446502,\n",
       "        0.0346187 , 0.        ],\n",
       "       [0.        , 0.02779407, 0.        , 0.59649123, 0.31308411,\n",
       "        0.        , 0.04641826, 0.44827586, 0.32153392, 0.1812224 ,\n",
       "        0.07576691, 0.0042646 ],\n",
       "       [0.1242236 , 0.02251671, 0.06598985, 0.35672515, 0.31542056,\n",
       "        0.        , 0.05450083, 0.63984674, 0.30678466, 0.10599801,\n",
       "        0.        , 0.02004362],\n",
       "       [0.        , 0.02955318, 0.15228426, 0.40935673, 0.36915888,\n",
       "        0.0298913 , 0.02629   , 0.42528736, 0.58702065, 0.12508904,\n",
       "        0.04595294, 0.08766799],\n",
       "       [0.0621118 , 0.04010789, 0.4822335 , 0.47368421, 0.36915888,\n",
       "        0.04619565, 0.0161805 , 0.38697318, 0.63126844, 0.14816925,\n",
       "        0.03437231, 0.09553923],\n",
       "       [0.1242236 , 0.0506626 , 0.61928934, 0.49122807, 0.36915888,\n",
       "        0.11141304, 0.        , 0.3908046 , 0.8820059 , 0.15685995,\n",
       "        0.02624122, 0.10517721],\n",
       "       [0.1242236 , 0.04362613, 0.72588832, 0.4619883 , 0.29439252,\n",
       "        0.25815217, 0.00270396, 0.4789272 , 0.8820059 , 0.14332526,\n",
       "        0.02993717, 0.13481011],\n",
       "       [0.0621118 , 0.05652633, 0.74619289, 0.4619883 , 0.23598131,\n",
       "        0.40217391, 0.00713193, 0.53639847, 1.        , 0.14617467,\n",
       "        0.00394234, 0.12334442],\n",
       "       [0.1242236 , 0.05183535, 0.84263959, 0.5380117 , 0.17757009,\n",
       "        0.51630435, 0.02084438, 0.57471264, 1.        , 0.17609346,\n",
       "        0.0068991 , 0.18624119],\n",
       "       [0.1242236 , 0.06473555, 0.85279188, 0.60818713, 0.12850467,\n",
       "        0.5923913 , 0.03828125, 0.61685824, 0.96755162, 0.20473002,\n",
       "        0.02303807, 0.15178321],\n",
       "       [0.1863354 , 0.06121731, 0.89847716, 0.62573099, 0.0771028 ,\n",
       "        0.70652174, 0.0517857 , 0.70114943, 0.90265487, 0.20686708,\n",
       "        0.01835654, 0.17440997],\n",
       "       [0.13043478, 0.07529025, 0.73604061, 0.56140351, 0.07009346,\n",
       "        0.73097826, 0.057826  , 0.7164751 , 0.90707965, 0.18977062,\n",
       "        0.00960946, 0.15547514],\n",
       "       [0.13043478, 0.09757242, 0.74619289, 0.60818713, 0.04439252,\n",
       "        0.76630435, 0.07633495, 0.70498084, 0.82153392, 0.21413307,\n",
       "        0.02439325, 0.12974133],\n",
       "       [0.1863354 , 0.12102732, 0.82233503, 0.67251462, 0.02102804,\n",
       "        0.78532609, 0.09337257, 0.59386973, 0.80530973, 0.24618892,\n",
       "        0.06541826, 0.12267427],\n",
       "       [0.37888199, 0.1151636 , 0.81725888, 0.73684211, 0.00233645,\n",
       "        0.82608696, 0.10394134, 0.59770115, 0.75221239, 0.27097877,\n",
       "        0.11765431, 0.11784919],\n",
       "       [0.37888199, 0.14213674, 0.67005076, 0.69005848, 0.        ,\n",
       "        0.83152174, 0.12446465, 0.60536398, 0.75516224, 0.25858384,\n",
       "        0.09769619, 0.137113  ],\n",
       "       [0.37267081, 0.15620969, 0.6751269 , 0.71345029, 0.01168224,\n",
       "        0.7798913 , 0.13374216, 0.57088123, 0.71681416, 0.27867218,\n",
       "        0.12775656, 0.15875279],\n",
       "       [0.41614907, 0.18318283, 0.68527919, 0.79532164, 0.00700935,\n",
       "        0.75271739, 0.15006086, 0.51724138, 0.90117994, 0.32055848,\n",
       "        0.1597881 , 0.1931011 ],\n",
       "       [0.57763975, 0.17849185, 0.73604061, 0.81871345, 0.00700935,\n",
       "        0.72826087, 0.15492297, 0.53639847, 0.78466077, 0.32825189,\n",
       "        0.17839103, 0.18639958],\n",
       "       [0.54037267, 0.21250147, 0.58883249, 0.77777778, 0.01869159,\n",
       "        0.69021739, 0.17044738, 0.51340996, 0.5339233 , 0.32397777,\n",
       "        0.20426266, 0.12435574],\n",
       "       [0.56521739, 0.24299285, 0.65482234, 0.76023392, 0.02803738,\n",
       "        0.62771739, 0.19336336, 0.43295019, 0.45427729, 0.33509047,\n",
       "        0.21337933, 0.17599397],\n",
       "       [0.57142857, 0.25237481, 0.59390863, 0.80116959, 0.04672897,\n",
       "        0.54347826, 0.21408769, 0.42145594, 0.5       , 0.36073515,\n",
       "        0.28126155, 0.14352208],\n",
       "       [0.59006211, 0.24416559, 0.59390863, 0.85380117, 0.04906542,\n",
       "        0.50543478, 0.22256252, 0.50574713, 0.63126844, 0.3778316 ,\n",
       "        0.28310952, 0.20583397],\n",
       "       [0.62111801, 0.27113874, 0.6142132 , 0.83625731, 0.06074766,\n",
       "        0.5       , 0.23423828, 0.47509579, 0.6120944 , 0.37825901,\n",
       "        0.29087101, 0.26135908],\n",
       "       [0.63354037, 0.30045737, 0.6142132 , 0.8128655 , 0.0817757 ,\n",
       "        0.43206522, 0.25474485, 0.40229885, 0.56047198, 0.38595241,\n",
       "        0.31316989, 0.29922873],\n",
       "       [0.65838509, 0.32743051, 0.60406091, 0.83625731, 0.11915888,\n",
       "        0.36684783, 0.27371307, 0.39463602, 0.63126844, 0.41159709,\n",
       "        0.35493409, 0.34232555],\n",
       "       [0.72670807, 0.31570306, 0.63451777, 0.85380117, 0.18457944,\n",
       "        0.23369565, 0.2907116 , 0.3908046 , 0.53097345, 0.41629862,\n",
       "        0.40803252, 0.30632013],\n",
       "       [0.70807453, 0.3450217 , 0.69543147, 0.85380117, 0.18457944,\n",
       "        0.22282609, 0.30776458, 0.45210728, 0.43510324, 0.42399202,\n",
       "        0.35505729, 0.2712895 ],\n",
       "       [0.69565217, 0.37434033, 0.6751269 , 0.83040936, 0.20093458,\n",
       "        0.20108696, 0.3216613 , 0.44061303, 0.40265487, 0.43168543,\n",
       "        0.36984107, 0.24034068],\n",
       "       [0.70186335, 0.40365897, 0.6751269 , 0.79532164, 0.3317757 ,\n",
       "        0.4048913 , 0.35670951, 0.23754789, 0.53097345, 0.42997578,\n",
       "        0.54256499, 0.18325596],\n",
       "       [0.60248447, 0.40365897, 0.66497462, 0.77192982, 0.48130841,\n",
       "        0.29891304, 0.35735724, 0.24521073, 0.47492625, 0.45661775,\n",
       "        0.61007761, 0.19154147],\n",
       "       [0.47204969, 0.42711387, 0.72588832, 0.57894737, 0.56074766,\n",
       "        0.19293478, 0.37712813, 0.50957854, 0.41150442, 0.31799402,\n",
       "        0.37686337, 0.22316044],\n",
       "       [0.45341615, 0.45643251, 0.71573604, 0.77192982, 0.60747664,\n",
       "        0.26086957, 0.38386919, 0.        , 0.41297935, 0.4419433 ,\n",
       "        0.50437354, 0.24015793],\n",
       "       [0.44720497, 0.48575114, 0.88324873, 0.59064327, 0.78271028,\n",
       "        0.19293478, 0.38835439, 0.55938697, 0.48820059, 0.34791281,\n",
       "        0.41443883, 0.23053211],\n",
       "       [0.72670807, 0.50920605, 0.96954315, 0.48538012, 1.        ,\n",
       "        0.09782609, 0.39779523, 0.65517241, 0.58554572, 0.28850264,\n",
       "        0.36417396, 0.24216838],\n",
       "       [0.54037267, 0.42125015, 0.91370558, 0.47953216, 0.99299065,\n",
       "        0.14130435, 0.39757607, 0.62452107, 0.65929204, 0.29192193,\n",
       "        0.37304423, 0.30840372],\n",
       "       [0.54037267, 0.43884133, 0.9035533 , 0.46783626, 0.89252336,\n",
       "        0.25271739, 0.42368738, 0.5210728 , 0.65929204, 0.29320416,\n",
       "        0.59504743, 0.30505296],\n",
       "       [0.45962733, 0.46053712, 0.92893401, 0.36842105, 0.83878505,\n",
       "        0.29619565, 0.45524572, 0.651341  , 0.69026549, 0.23507622,\n",
       "        0.35752125, 0.37588798],\n",
       "       [0.52173913, 0.45995074, 0.93908629, 0.22807018, 0.95560748,\n",
       "        0.28532609, 0.46502856, 0.37547893, 0.73746313, 0.14531985,\n",
       "        0.66009609, 0.28374215],\n",
       "       [0.49068323, 0.46112349, 0.94923858, 0.        , 0.8364486 ,\n",
       "        0.4375    , 0.47046441, 0.59770115, 0.72713864, 0.        ,\n",
       "        0.35555008, 0.31061521],\n",
       "       [0.57763975, 0.46053712, 1.        , 0.19883041, 0.71028037,\n",
       "        0.52717391, 0.50982752, 0.73563218, 0.6519174 , 0.12950563,\n",
       "        0.38548725, 0.37863558],\n",
       "       [0.62111801, 0.47636918, 0.94416244, 0.39181287, 0.46028037,\n",
       "        0.71467391, 0.53749672, 0.64750958, 0.55014749, 0.22866505,\n",
       "        0.43254897, 0.39130146],\n",
       "       [0.81987578, 0.48633752, 0.87309645, 0.23976608, 0.33878505,\n",
       "        0.83423913, 0.56868094, 0.70881226, 0.51179941, 0.13805385,\n",
       "        0.48306024, 0.44900149],\n",
       "       [0.7515528 , 0.5039287 , 0.81218274, 0.50877193, 0.27102804,\n",
       "        0.9076087 , 0.57687239, 0.67816092, 0.40855457, 0.27183359,\n",
       "        0.48712579, 0.47192068],\n",
       "       [0.77018634, 0.50568782, 0.75126904, 0.22807018, 0.23130841,\n",
       "        0.95108696, 0.60596966, 0.68582375, 0.40117994, 0.09331814,\n",
       "        0.53923863, 0.5234553 ],\n",
       "       [0.85093168, 0.54321567, 0.78172589, 0.90643275, 0.20560748,\n",
       "        0.9701087 , 0.63709245, 0.63218391, 0.45427729, 0.59068243,\n",
       "        0.59886658, 0.60735831],\n",
       "       [0.91304348, 0.55611587, 0.75634518, 0.23976608, 0.18691589,\n",
       "        1.        , 0.65054386, 0.68582375, 0.39675516, 0.1739564 ,\n",
       "        0.61500554, 0.4123442 ],\n",
       "       [0.80124224, 0.57487979, 0.69035533, 0.58479532, 0.14485981,\n",
       "        0.77717391, 0.63089581, 0.44061303, 0.38053097, 0.37028067,\n",
       "        0.59849698, 0.36764508],\n",
       "       [0.72670807, 0.67104492, 0.65482234, 0.81871345, 0.0911215 ,\n",
       "        0.85597826, 0.66075945, 0.50574713, 0.74483776, 0.60564183,\n",
       "        0.68535173, 0.42903098],\n",
       "       [0.78881988, 0.71033189, 0.73096447, 0.81871345, 0.15186916,\n",
       "        0.75      , 0.72554428, 0.55555556, 0.68141593, 0.70380396,\n",
       "        0.72662314, 0.62257072],\n",
       "       [0.89440994, 0.75137798, 0.76649746, 0.71929825, 0.12383178,\n",
       "        0.75271739, 0.77400064, 0.5862069 , 0.84070796, 0.62729734,\n",
       "        0.78957743, 0.70767996],\n",
       "       [0.92546584, 0.79066495, 0.82741117, 0.71929825, 0.12850467,\n",
       "        0.76630435, 0.78079754, 0.55172414, 0.78023599, 0.65764354,\n",
       "        0.79450536, 0.8175848 ],\n",
       "       [0.99378882, 0.82643368, 0.84771574, 0.81871345, 0.08878505,\n",
       "        0.81793478, 0.816728  , 0.51724138, 0.72418879, 0.78515458,\n",
       "        0.16779598, 0.977818  ],\n",
       "       [0.9689441 , 0.87803448, 0.88832487, 0.9005848 , 0.05607477,\n",
       "        0.8125    , 0.88604409, 0.57854406, 0.66224189, 0.88246189,\n",
       "        0.97375878, 0.96005899],\n",
       "       [0.99378882, 0.93960361, 0.9035533 , 1.        , 0.03504673,\n",
       "        0.79347826, 0.94890111, 0.55938697, 0.84660767, 1.        ,\n",
       "        0.98657139, 0.8990752 ],\n",
       "       [1.        , 1.        , 0.93401015, 0.92982456, 0.03504673,\n",
       "        0.80434783, 1.        , 0.62452107, 0.68141593, 0.98375837,\n",
       "        1.        , 1.        ]])"
      ]
     },
     "execution_count": 86,
     "metadata": {},
     "output_type": "execute_result"
    }
   ],
   "source": [
    "X_new"
   ]
  },
  {
   "cell_type": "code",
   "execution_count": 87,
   "metadata": {
    "colab": {
     "base_uri": "https://localhost:8080/"
    },
    "id": "161XmLM-RrPR",
    "outputId": "64e2c037-0223-4dd3-dfc6-97874d8a8922"
   },
   "outputs": [
    {
     "data": {
      "text/plain": [
       "array([[9.35412027e-03],\n",
       "       [1.45211581e-02],\n",
       "       [4.45434298e-04],\n",
       "       [1.37193764e-02],\n",
       "       [0.00000000e+00],\n",
       "       [4.54342984e-03],\n",
       "       [6.50334076e-03],\n",
       "       [4.45434298e-03],\n",
       "       [5.34521158e-04],\n",
       "       [1.95100223e-02],\n",
       "       [2.91314031e-02],\n",
       "       [4.67706013e-02],\n",
       "       [3.79510022e-02],\n",
       "       [4.64142539e-02],\n",
       "       [6.47661470e-02],\n",
       "       [9.97772829e-02],\n",
       "       [1.07616927e-01],\n",
       "       [1.23474388e-01],\n",
       "       [1.34877506e-01],\n",
       "       [1.61959911e-01],\n",
       "       [1.63474388e-01],\n",
       "       [1.83429844e-01],\n",
       "       [2.02227171e-01],\n",
       "       [2.11314031e-01],\n",
       "       [2.23340757e-01],\n",
       "       [2.38040089e-01],\n",
       "       [2.51848552e-01],\n",
       "       [2.75634744e-01],\n",
       "       [2.78841871e-01],\n",
       "       [2.90957684e-01],\n",
       "       [3.08953229e-01],\n",
       "       [3.04677060e-01],\n",
       "       [2.82761693e-01],\n",
       "       [2.91135857e-01],\n",
       "       [3.00935412e-01],\n",
       "       [3.00846325e-01],\n",
       "       [3.21158129e-01],\n",
       "       [3.31759465e-01],\n",
       "       [3.31403118e-01],\n",
       "       [3.59643653e-01],\n",
       "       [3.66770601e-01],\n",
       "       [3.94922049e-01],\n",
       "       [4.35634744e-01],\n",
       "       [5.02004454e-01],\n",
       "       [5.12427617e-01],\n",
       "       [5.40935412e-01],\n",
       "       [5.84409800e-01],\n",
       "       [6.18440980e-01],\n",
       "       [6.49888641e-01],\n",
       "       [6.57550111e-01],\n",
       "       [7.06191537e-01],\n",
       "       [7.52427617e-01],\n",
       "       [7.97416481e-01],\n",
       "       [8.64587973e-01],\n",
       "       [9.13229399e-01],\n",
       "       [9.46102450e-01],\n",
       "       [1.00000000e+00]])"
      ]
     },
     "execution_count": 87,
     "metadata": {},
     "output_type": "execute_result"
    }
   ],
   "source": [
    "Y_new"
   ]
  },
  {
   "cell_type": "code",
   "execution_count": 88,
   "metadata": {
    "id": "4L09wdYuRtis"
   },
   "outputs": [],
   "source": [
    "from sklearn.model_selection import train_test_split\n",
    "X_train,X_test,Y_train,Y_test = train_test_split(X_new,Y_new,test_size=0.30,random_state=0)"
   ]
  },
  {
   "cell_type": "code",
   "execution_count": 89,
   "metadata": {
    "colab": {
     "base_uri": "https://localhost:8080/"
    },
    "id": "IKOyday9SAJs",
    "outputId": "8494d02d-7112-4fc6-d6f1-615162c87aa9"
   },
   "outputs": [
    {
     "name": "stderr",
     "output_type": "stream",
     "text": [
      "C:\\Users\\Shubham Shah\\AppData\\Local\\Temp\\ipykernel_12568\\1458309908.py:3: DataConversionWarning: A column-vector y was passed when a 1d array was expected. Please change the shape of y to (n_samples,), for example using ravel().\n",
      "  classifier.fit(X_train,Y_train)\n"
     ]
    },
    {
     "data": {
      "text/plain": [
       "RandomForestRegressor(random_state=0)"
      ]
     },
     "execution_count": 89,
     "metadata": {},
     "output_type": "execute_result"
    }
   ],
   "source": [
    "from sklearn.ensemble import RandomForestRegressor\n",
    "classifier = RandomForestRegressor(n_estimators=100,random_state=0)\n",
    "classifier.fit(X_train,Y_train)"
   ]
  },
  {
   "cell_type": "code",
   "execution_count": null,
   "metadata": {},
   "outputs": [],
   "source": []
  },
  {
   "cell_type": "code",
   "execution_count": 90,
   "metadata": {
    "id": "r2kdhtvMTLdI"
   },
   "outputs": [],
   "source": [
    "y_pred = classifier.predict(X_test)"
   ]
  },
  {
   "cell_type": "code",
   "execution_count": 91,
   "metadata": {
    "id": "9REuCsXfZWG1"
   },
   "outputs": [],
   "source": [
    "y_pred=y_pred.reshape(-1,1)"
   ]
  },
  {
   "cell_type": "code",
   "execution_count": 92,
   "metadata": {
    "colab": {
     "base_uri": "https://localhost:8080/"
    },
    "id": "nR9AVY2LTRza",
    "outputId": "4e2a57e4-9620-4250-ea40-927c8394f0d6"
   },
   "outputs": [
    {
     "data": {
      "text/plain": [
       "(18, 1)"
      ]
     },
     "execution_count": 92,
     "metadata": {},
     "output_type": "execute_result"
    }
   ],
   "source": [
    "y_pred.shape"
   ]
  },
  {
   "cell_type": "code",
   "execution_count": 93,
   "metadata": {
    "id": "cVFXDk5VSJaa"
   },
   "outputs": [],
   "source": [
    "y_pred = sc.inverse_transform(y_pred)\n"
   ]
  },
  {
   "cell_type": "code",
   "execution_count": 94,
   "metadata": {
    "id": "40xtNURQUXcm"
   },
   "outputs": [],
   "source": [
    "Y_test=sc.inverse_transform(Y_test)\n",
    "Y_train=sc.inverse_transform(Y_train)"
   ]
  },
  {
   "cell_type": "code",
   "execution_count": 95,
   "metadata": {
    "colab": {
     "base_uri": "https://localhost:8080/",
     "height": 283
    },
    "id": "IeLlJNpAb8-6",
    "outputId": "62775c0e-af03-4600-9c0c-16d18bd158f3"
   },
   "outputs": [
    {
     "data": {
      "text/plain": [
       "[]"
      ]
     },
     "execution_count": 95,
     "metadata": {},
     "output_type": "execute_result"
    },
    {
     "data": {
      "image/png": "[encoded data removed]",
      "text/plain": [
       "<Figure size 640x480 with 1 Axes>"
      ]
     },
     "metadata": {},
     "output_type": "display_data"
    }
   ],
   "source": [
    "\n",
    "\n",
    "plt.plot(Y_test)\n",
    "plt.plot(y_pred)\n",
    "plt.plot()"
   ]
  },
  {
   "cell_type": "code",
   "execution_count": 96,
   "metadata": {
    "colab": {
     "base_uri": "https://localhost:8080/"
    },
    "id": "euTZmrLCclFZ",
    "outputId": "15dabfc3-bf53-4ddd-cd35-e265552aed75"
   },
   "outputs": [
    {
     "name": "stdout",
     "output_type": "stream",
     "text": [
      "Mean squared error: 33.25\n",
      "Coefficient of determination: 0.97\n"
     ]
    }
   ],
   "source": [
    "from sklearn.metrics import mean_squared_error, r2_score\n",
    "\n",
    "print('Mean squared error: %.2f' % mean_squared_error(Y_test, y_pred))\n",
    "\n",
    "# The coefficient of determination: 1 is perfect prediction\n",
    "print('Coefficient of determination: %.2f' % r2_score(Y_test, y_pred))"
   ]
  },
  {
   "cell_type": "code",
   "execution_count": null,
   "metadata": {},
   "outputs": [],
   "source": []
  },
  {
   "cell_type": "code",
   "execution_count": null,
   "metadata": {},
   "outputs": [],
   "source": []
  },
  {
   "cell_type": "code",
   "execution_count": null,
   "metadata": {},
   "outputs": [],
   "source": []
  }
 ],
 "metadata": {
  "colab": {
   "collapsed_sections": [],
   "provenance": []
  },
  "kernelspec": {
   "display_name": "Python 3 (ipykernel)",
   "language": "python",
   "name": "python3"
  },
  "language_info": {
   "codemirror_mode": {
    "name": "ipython",
    "version": 3
   },
   "file_extension": ".py",
   "mimetype": "text/x-python",
   "name": "python",
   "nbconvert_exporter": "python",
   "pygments_lexer": "ipython3",
   "version": "3.9.13"
  }
 },
 "nbformat": 4,
 "nbformat_minor": 1
}
